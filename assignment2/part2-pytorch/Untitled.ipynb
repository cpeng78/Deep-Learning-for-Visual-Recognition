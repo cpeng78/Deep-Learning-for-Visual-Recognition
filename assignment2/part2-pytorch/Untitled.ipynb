{
 "cells": [
  {
   "cell_type": "code",
   "execution_count": 29,
   "id": "corresponding-cleanup",
   "metadata": {},
   "outputs": [],
   "source": [
    "import torch\n",
    "import torch.nn as nn\n",
    "import torch.nn.functional as F"
   ]
  },
  {
   "cell_type": "code",
   "execution_count": 36,
   "id": "higher-algorithm",
   "metadata": {},
   "outputs": [],
   "source": [
    "weight = torch.tensor([0.0051, 0.0077, 0.0121, 0.0195, 0.0319, 0.0525, 0.0868, 0.1443, 0.2409,\n",
    "                             0.3993])\n",
    "input = torch.tensor([[2.9751, -0.3312, -7.4666, -6.8384, 1.6987, 1.9255, -2.2512, -1.4505,\n",
    "                           0.7402, 2.1339],\n",
    "                          [3.3333, -0.6700, -7.6600, -5.8551, 1.3606, 2.1366, -1.8532, -1.4562,\n",
    "                           0.4192, 3.1757],\n",
    "                          [3.5510, -0.6564, -8.6301, -5.3536, 1.2964, 1.1514, -2.4029, -0.6956,\n",
    "                           0.1640, 3.3132],\n",
    "                          [3.1342, 0.3029, -8.1702, -6.4352, 1.0989, 2.1021, -2.5321, -1.5944,\n",
    "                           0.4383, 2.3836]])\n",
    "target = torch.tensor([0, 6, 2, 0])\n",
    "gamma = 1\n",
    "myloss = torch.tensor(0.8269)"
   ]
  },
  {
   "cell_type": "code",
   "execution_count": 75,
   "id": "compact-combining",
   "metadata": {},
   "outputs": [
    {
     "name": "stdout",
     "output_type": "stream",
     "text": [
      "tensor([[4.5017e-01, 1.6499e-02, 1.3140e-05, 2.4628e-05, 1.2562e-01, 1.5759e-01,\n",
      "         2.4189e-03, 5.3872e-03, 4.8169e-02, 1.9411e-01],\n",
      "        [4.1982e-01, 7.6639e-03, 7.0588e-06, 4.2913e-05, 5.8388e-02, 1.2686e-01,\n",
      "         2.3474e-03, 3.4914e-03, 2.2776e-02, 3.5860e-01],\n",
      "        [4.8786e-01, 7.2618e-03, 2.5010e-06, 6.6233e-05, 5.1184e-02, 4.4275e-02,\n",
      "         1.2663e-03, 6.9826e-03, 1.6494e-02, 3.8461e-01],\n",
      "        [4.7669e-01, 2.8095e-02, 5.8722e-06, 3.3289e-05, 6.2276e-02, 1.6983e-01,\n",
      "         1.6497e-03, 4.2134e-03, 3.2168e-02, 2.2504e-01]])\n",
      "tensor([[ 0.4388,  0.0000,  0.0000,  0.0000,  0.0000,  0.0000,  0.0000,  0.0000,\n",
      "          0.0000,  0.0000],\n",
      "        [ 0.0000,  0.0000,  0.0000,  0.0000,  0.0000,  0.0000,  6.0402,  0.0000,\n",
      "          0.0000,  0.0000],\n",
      "        [ 0.0000,  0.0000, 12.8988,  0.0000,  0.0000,  0.0000,  0.0000,  0.0000,\n",
      "          0.0000,  0.0000],\n",
      "        [ 0.3877,  0.0000,  0.0000,  0.0000,  0.0000,  0.0000,  0.0000,  0.0000,\n",
      "          0.0000,  0.0000]])\n",
      "tensor(0.1711)\n"
     ]
    }
   ],
   "source": [
    "softmax = F.softmax(input, dim=1)\n",
    "label_one_hot = F.one_hot(target, input.shape[-1]).float()\n",
    "pt = softmax\n",
    "log_softmax = F.log_softmax(input, dim=1)\n",
    "FL= -(1-pt) ** gamma * log_softmax *label_one_hot\n",
    "print(pt)\n",
    "print(FL)\n",
    "print((FL*weight).sum(dim=1).mean())"
   ]
  },
  {
   "cell_type": "code",
   "execution_count": 31,
   "id": "prompt-reducing",
   "metadata": {},
   "outputs": [
    {
     "data": {
      "text/plain": [
       "tensor([ 0.7981,  6.0544, 12.8988,  0.7409])"
      ]
     },
     "execution_count": 31,
     "metadata": {},
     "output_type": "execute_result"
    }
   ],
   "source": [
    "cent_loss = F.cross_entropy(input, target, reduction='none')\n",
    "cent_loss"
   ]
  },
  {
   "cell_type": "code",
   "execution_count": 25,
   "id": "sudden-certificate",
   "metadata": {},
   "outputs": [
    {
     "data": {
      "text/plain": [
       "tensor([0.9959, 0.5912, 0.8555, 0.9962])"
      ]
     },
     "execution_count": 25,
     "metadata": {},
     "output_type": "execute_result"
    }
   ],
   "source": [
    "pt = torch.exp(-cent_loss)\n",
    "pt"
   ]
  },
  {
   "cell_type": "code",
   "execution_count": 21,
   "id": "prompt-student",
   "metadata": {},
   "outputs": [
    {
     "data": {
      "text/plain": [
       "tensor([[4.5017e-01, 1.6499e-02, 1.3140e-05, 2.4628e-05, 1.2562e-01, 1.5759e-01,\n",
       "         2.4189e-03, 5.3872e-03, 4.8169e-02, 1.9411e-01],\n",
       "        [4.1982e-01, 7.6639e-03, 7.0588e-06, 4.2913e-05, 5.8388e-02, 1.2686e-01,\n",
       "         2.3474e-03, 3.4914e-03, 2.2776e-02, 3.5860e-01],\n",
       "        [4.8786e-01, 7.2618e-03, 2.5010e-06, 6.6233e-05, 5.1184e-02, 4.4275e-02,\n",
       "         1.2663e-03, 6.9826e-03, 1.6494e-02, 3.8461e-01],\n",
       "        [4.7669e-01, 2.8095e-02, 5.8722e-06, 3.3289e-05, 6.2276e-02, 1.6983e-01,\n",
       "         1.6497e-03, 4.2134e-03, 3.2168e-02, 2.2504e-01]])"
      ]
     },
     "execution_count": 21,
     "metadata": {},
     "output_type": "execute_result"
    }
   ],
   "source": [
    "softmax = F.softmax(input, dim=1)\n",
    "softmax"
   ]
  },
  {
   "cell_type": "code",
   "execution_count": 23,
   "id": "conventional-northern",
   "metadata": {},
   "outputs": [
    {
     "data": {
      "text/plain": [
       "tensor(-0.2323)"
      ]
     },
     "execution_count": 23,
     "metadata": {},
     "output_type": "execute_result"
    }
   ],
   "source": [
    "F.nll_loss(softmax, target)"
   ]
  },
  {
   "cell_type": "code",
   "execution_count": null,
   "id": "enclosed-figure",
   "metadata": {},
   "outputs": [],
   "source": []
  }
 ],
 "metadata": {
  "kernelspec": {
   "display_name": "Python 3",
   "language": "python",
   "name": "python3"
  },
  "language_info": {
   "codemirror_mode": {
    "name": "ipython",
    "version": 3
   },
   "file_extension": ".py",
   "mimetype": "text/x-python",
   "name": "python",
   "nbconvert_exporter": "python",
   "pygments_lexer": "ipython3",
   "version": "3.8.8"
  },
  "toc": {
   "base_numbering": 1,
   "nav_menu": {},
   "number_sections": true,
   "sideBar": true,
   "skip_h1_title": false,
   "title_cell": "Table of Contents",
   "title_sidebar": "Contents",
   "toc_cell": false,
   "toc_position": {},
   "toc_section_display": true,
   "toc_window_display": false
  }
 },
 "nbformat": 4,
 "nbformat_minor": 5
}
